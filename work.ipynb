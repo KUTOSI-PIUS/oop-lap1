{
 "cells": [
  {
   "cell_type": "markdown",
   "id": "fbd13bf1",
   "metadata": {},
   "source": []
  },
  {
   "cell_type": "code",
   "execution_count": null,
   "id": "3e61791a",
   "metadata": {
    "vscode": {
     "languageId": "plaintext"
    }
   },
   "outputs": [],
   "source": [
    "student\n"
   ]
  },
  {
   "cell_type": "code",
   "execution_count": null,
   "id": "8a16ae95",
   "metadata": {
    "vscode": {
     "languageId": "plaintext"
    }
   },
   "outputs": [],
   "source": [
    "class BankAccount:\n",
    "      def __init__(self, balance=0):\n",
    "            self.account_number = balance\n",
    "      def deposit(self, amount):\n",
    "            self.balance += amount\n",
    "      def withdraw(self, amount):\n",
    "          self.balance -= amount\n",
    "\n",
    "account = BankAccount(260)\n",
    "account.deposit(100)\n",
    "account.withdraw(50)\n",
    "print(account.balance)"
   ]
  }
 ],
 "metadata": {
  "language_info": {
   "name": "python"
  }
 },
 "nbformat": 4,
 "nbformat_minor": 5
}
